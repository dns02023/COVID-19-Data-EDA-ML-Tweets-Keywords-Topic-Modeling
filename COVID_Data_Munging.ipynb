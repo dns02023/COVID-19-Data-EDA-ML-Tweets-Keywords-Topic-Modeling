{
 "cells": [
  {
   "cell_type": "code",
   "execution_count": 1,
   "metadata": {},
   "outputs": [],
   "source": [
    "%matplotlib inline \n",
    "\n",
    "from collections import defaultdict\n",
    "import pandas as pd\n",
    "import matplotlib.pyplot as plt\n",
    "import requests\n",
    "from bs4 import BeautifulSoup"
   ]
  },
  {
   "cell_type": "markdown",
   "metadata": {},
   "source": [
    "## Fetching the Wikipedia site"
   ]
  },
  {
   "cell_type": "code",
   "execution_count": 2,
   "metadata": {},
   "outputs": [],
   "source": [
    "url = 'https://en.wikipedia.org/wiki/2019%E2%80%9320_coronavirus_pandemic_by_country_and_territory'\n",
    "html = requests.get(url)\n",
    "html_source = html.text\n",
    "#print(html_source)\n"
   ]
  },
  {
   "cell_type": "markdown",
   "metadata": {},
   "source": [
    "## Parsing html data"
   ]
  },
  {
   "cell_type": "code",
   "execution_count": 3,
   "metadata": {
    "scrolled": true
   },
   "outputs": [],
   "source": [
    "bs_object = BeautifulSoup(html_source, \"html.parser\")\n",
    "table = bs_object.find(\"table\", id=\"thetable\")\n",
    "#print(table)\n"
   ]
  },
  {
   "cell_type": "markdown",
   "metadata": {},
   "source": [
    "## Extracting data and filling it into a dictionary"
   ]
  },
  {
   "cell_type": "code",
   "execution_count": 7,
   "metadata": {},
   "outputs": [
    {
     "name": "stdout",
     "output_type": "stream",
     "text": [
      "{'United States': {'cases': '1,497,244', 'deaths': '89,420', 'recovers': '272,525'}, 'Russia': {'cases': '281,752', 'deaths': '2,631', 'recovers': '67,373'}, 'United Kingdom': {'cases': '240,161', 'deaths': '34,466', 'recovers': 'No data'}, 'Brazil': {'cases': '233,511', 'deaths': '15,662', 'recovers': '89,672'}, 'Spain': {'cases': '231,350', 'deaths': '27,650', 'recovers': '149,576'}, 'Italy': {'cases': '224,760', 'deaths': '31,763', 'recovers': '122,810'}, 'Germany': {'cases': '176,244', 'deaths': '8,027', 'recovers': '152,600'}, 'Turkey': {'cases': '148,067', 'deaths': '4,096', 'recovers': '108,137'}, 'France': {'cases': '142,291', 'deaths': '27,625', 'recovers': '61,066'}, 'Iran': {'cases': '118,392', 'deaths': '6,937', 'recovers': '93,147'}, 'India': {'cases': '90,927', 'deaths': '2,872', 'recovers': '34,109'}, 'Peru': {'cases': '88,541', 'deaths': '2,523', 'recovers': '28,272'}, 'China': {'cases': '82,947', 'deaths': '4,634', 'recovers': '78,227'}, 'Canada': {'cases': '75,864', 'deaths': '5,679', 'recovers': '37,819'}, 'Belgium': {'cases': '55,280', 'deaths': '9,052', 'recovers': '14,630'}, 'Saudi Arabia': {'cases': '52,016', 'deaths': '302', 'recovers': '23,666'}, 'Mexico': {'cases': '47,144', 'deaths': '5,045', 'recovers': '31,848'}, 'Netherlands': {'cases': '43,870', 'deaths': '5,670', 'recovers': 'No data'}, 'Chile': {'cases': '41,428', 'deaths': '421', 'recovers': '18,014'}, 'Pakistan': {'cases': '40,151', 'deaths': '873', 'recovers': '11,341'}, 'Ecuador': {'cases': '32,763', 'deaths': '2,688', 'recovers': '3,433'}, 'Qatar': {'cases': '30,972', 'deaths': '15', 'recovers': '3,788'}, 'Switzerland': {'cases': '30,572', 'deaths': '1,602', 'recovers': '27,400'}, 'Sweden': {'cases': '29,677', 'deaths': '3,674', 'recovers': '4,971'}, 'Portugal': {'cases': '28,810', 'deaths': '1,203', 'recovers': '3,822'}, 'Belarus': {'cases': '28,681', 'deaths': '160', 'recovers': '9,498'}, 'Singapore': {'cases': '28,038', 'deaths': '22', 'recovers': '8,342'}, 'Ireland': {'cases': '24,048', 'deaths': '1,533', 'recovers': '19,470'}, 'United Arab Emirates': {'cases': '22,627', 'deaths': '214', 'recovers': '7,931'}, 'Bangladesh': {'cases': '20,995', 'deaths': '314', 'recovers': '4,117'}, 'Ukraine': {'cases': '18,291', 'deaths': '514', 'recovers': '5,116'}, 'Poland': {'cases': '18,257', 'deaths': '915', 'recovers': '7,175'}, 'Indonesia': {'cases': '17,025', 'deaths': '1,089', 'recovers': '3,911'}, 'Romania': {'cases': '16,704', 'deaths': '1,081', 'recovers': '9,574'}, 'Israel': {'cases': '16,606', 'deaths': '267', 'recovers': '12,820'}, 'Japan': {'cases': '16,253', 'deaths': '729', 'recovers': '10,809'}, 'Austria': {'cases': '16,135', 'deaths': '628', 'recovers': '14,471'}, 'Colombia': {'cases': '14,939', 'deaths': '562', 'recovers': '3,587'}, 'South Africa': {'cases': '14,355', 'deaths': '261', 'recovers': '6,478'}, 'Kuwait': {'cases': '13,802', 'deaths': '107', 'recovers': '3,843'}, 'Philippines': {'cases': '12,305', 'deaths': '817', 'recovers': '2,561'}, 'Dominican Republic': {'cases': '12,110', 'deaths': '428', 'recovers': '3,726'}, 'Egypt': {'cases': '11,719', 'deaths': '612', 'recovers': '3,526'}, 'South Korea': {'cases': '11,050', 'deaths': '262', 'recovers': '9,888'}, 'Denmark': {'cases': '10,858', 'deaths': '543', 'recovers': '9,107'}, 'Serbia': {'cases': '10,496', 'deaths': '228', 'recovers': '4,479'}, 'Panama': {'cases': '9,449', 'deaths': '269', 'recovers': '6,080'}, 'Czech Republic': {'cases': '8,457', 'deaths': '297', 'recovers': '5,422'}, 'Norway': {'cases': '8,237', 'deaths': '232', 'recovers': '7,114'}, 'Argentina': {'cases': '7,792', 'deaths': '363', 'recovers': '2,521'}, 'Australia': {'cases': '7,048', 'deaths': '98', 'recovers': '6,362'}, 'Malaysia': {'cases': '6,894', 'deaths': '113', 'recovers': '5,571'}, 'Algeria': {'cases': '6,821', 'deaths': '542', 'recovers': '3,409'}, 'Bahrain': {'cases': '6,747', 'deaths': '12', 'recovers': '2,753'}, 'Morocco': {'cases': '6,741', 'deaths': '192', 'recovers': '3,487'}, 'Afghanistan': {'cases': '6,402', 'deaths': '168', 'recovers': '778'}, 'Finland': {'cases': '6,286', 'deaths': '297', 'recovers': '5,000'}, 'Kazakhstan': {'cases': '6,157', 'deaths': '34', 'recovers': '2,980'}, 'Moldova': {'cases': '5,934', 'deaths': '207', 'recovers': '2,344'}, 'Ghana': {'cases': '5,735', 'deaths': '29', 'recovers': '1,754'}, 'Nigeria': {'cases': '5,621', 'deaths': '176', 'recovers': '1,472'}, 'Oman': {'cases': '5,029', 'deaths': '21', 'recovers': '1,436'}, 'Armenia': {'cases': '4,472', 'deaths': '60', 'recovers': '1,925'}, 'Luxembourg': {'cases': '3,930', 'deaths': '104', 'recovers': '3,699'}, 'Bolivia': {'cases': '3,826', 'deaths': '165', 'recovers': '473'}, 'Hungary': {'cases': '3,509', 'deaths': '451', 'recovers': '1,396'}, 'Iraq': {'cases': '3,260', 'deaths': '121', 'recovers': '2,126'}, 'Azerbaijan': {'cases': '3,138', 'deaths': '36', 'recovers': '1,944'}, 'Cameroon': {'cases': '3,105', 'deaths': '140', 'recovers': '1,567'}, 'Thailand': {'cases': '3,025', 'deaths': '56', 'recovers': '2,855'}, 'Greece': {'cases': '2,819', 'deaths': '162', 'recovers': '1,374'}, 'Uzbekistan': {'cases': '2,741', 'deaths': '11', 'recovers': '2,221'}, 'Guinea': {'cases': '2,658', 'deaths': '16', 'recovers': '1,133'}, 'Puerto Rico': {'cases': '2,589', 'deaths': '122', 'recovers': '850'}, 'Honduras': {'cases': '2,565', 'deaths': '138', 'recovers': '278'}, 'Senegal': {'cases': '2,429', 'deaths': '25', 'recovers': '949'}, 'Sudan': {'cases': '2,289', 'deaths': '97', 'recovers': '222'}, 'Bosnia & Herzegovina': {'cases': '2,267', 'deaths': '129', 'recovers': '1,355'}, 'Croatia': {'cases': '2,224', 'deaths': '95', 'recovers': '1,913'}, 'Bulgaria': {'cases': '2,211', 'deaths': '108', 'recovers': '598'}, 'Ivory Coast': {'cases': '2,061', 'deaths': '25', 'recovers': '987'}, 'Cuba': {'cases': '1,862', 'deaths': '79', 'recovers': '1,460'}, 'Iceland': {'cases': '1,802', 'deaths': '10', 'recovers': '1,782'}, 'Estonia': {'cases': '1,770', 'deaths': '63', 'recovers': '934'}, 'Guatemala': {'cases': '1,763', 'deaths': '33', 'recovers': '138'}, 'North Macedonia': {'cases': '1,762', 'deaths': '98', 'recovers': '1,267'}, 'Lithuania': {'cases': '1,534', 'deaths': '55', 'recovers': '988'}, 'Slovakia': {'cases': '1,493', 'deaths': '28', 'recovers': '1,151'}, 'Slovenia': {'cases': '1,465', 'deaths': '103', 'recovers': '272'}, 'DR Congo': {'cases': '1,369', 'deaths': '61', 'recovers': '229'}, 'Somalia': {'cases': '1,357', 'deaths': '55', 'recovers': '148'}, 'El Salvador': {'cases': '1,338', 'deaths': '27', 'recovers': '462'}, 'Djibouti': {'cases': '1,331', 'deaths': '4', 'recovers': '950'}, 'Tajikistan': {'cases': '1,322', 'deaths': '36', 'recovers': '0'}, 'Gabon': {'cases': '1,320', 'deaths': '11', 'recovers': '244'}, 'New Zealand': {'cases': '1,149', 'deaths': '21', 'recovers': '1,433'}, 'Kyrgyzstan': {'cases': '1,138', 'deaths': '14', 'recovers': '804'}, 'USS Theodore Roosevelt': {'cases': '1,102', 'deaths': '1', 'recovers': '53'}, 'Charles de Gaulle': {'cases': '1,081', 'deaths': '0', 'recovers': '0'}, 'Maldives': {'cases': '1,078', 'deaths': '4', 'recovers': '58'}, 'Hong Kong': {'cases': '1,053', 'deaths': '4', 'recovers': '1,019'}, 'Tunisia': {'cases': '1,037', 'deaths': '45', 'recovers': '807'}, 'Latvia': {'cases': '1,008', 'deaths': '19', 'recovers': '662'}, 'Guinea-Bissau': {'cases': '969', 'deaths': '4', 'recovers': '26'}, 'Sri Lanka': {'cases': '960', 'deaths': '9', 'recovers': '520'}, 'Kosovo': {'cases': '944', 'deaths': '29', 'recovers': '690'}, 'Albania': {'cases': '933', 'deaths': '31', 'recovers': '714'}, 'Cyprus': {'cases': '914', 'deaths': '17', 'recovers': '515'}, 'Lebanon': {'cases': '902', 'deaths': '26', 'recovers': '247'}, 'Niger': {'cases': '889', 'deaths': '51', 'recovers': '689'}, 'Costa Rica': {'cases': '853', 'deaths': '10', 'recovers': '551'}, 'Mali': {'cases': '835', 'deaths': '48', 'recovers': '479'}, 'Kenya': {'cases': '830', 'deaths': '50', 'recovers': '301'}, 'Burkina Faso': {'cases': '780', 'deaths': '51', 'recovers': '595'}, 'Paraguay': {'cases': '778', 'deaths': '11', 'recovers': '198'}, 'Andorra': {'cases': '761', 'deaths': '51', 'recovers': '615'}, 'Uruguay': {'cases': '733', 'deaths': '19', 'recovers': '558'}, 'Diamond Princess': {'cases': '712', 'deaths': '14', 'recovers': '653'}, 'Georgia': {'cases': '683', 'deaths': '12', 'recovers': '419'}, 'Zambia': {'cases': '679', 'deaths': '7', 'recovers': '183'}, 'San Marino': {'cases': '653', 'deaths': '41', 'recovers': '198'}, 'Jordan': {'cases': '607', 'deaths': '9', 'recovers': '404'}, 'Equatorial Guinea': {'cases': '594', 'deaths': '7', 'recovers': '22'}, 'Malta': {'cases': '546', 'deaths': '6', 'recovers': '450'}, 'Jamaica': {'cases': '517', 'deaths': '9', 'recovers': '121'}, 'Tanzania': {'cases': '509', 'deaths': '21', 'recovers': '183'}, 'Venezuela': {'cases': '504', 'deaths': '10', 'recovers': '241'}, 'Chad': {'cases': '474', 'deaths': '50', 'recovers': '111'}, 'Sierra Leone': {'cases': '462', 'deaths': '29', 'recovers': '106'}, 'Taiwan': {'cases': '440', 'deaths': '7', 'recovers': '389'}, 'Congo': {'cases': '412', 'deaths': '15', 'recovers': '110'}, 'Palestine': {'cases': '376', 'deaths': '2', 'recovers': '329'}, 'Benin': {'cases': '339', 'deaths': '2', 'recovers': '83'}, 'Isle of Man': {'cases': '335', 'deaths': '24', 'recovers': '285'}, 'Mauritius': {'cases': '332', 'deaths': '10', 'recovers': '322'}, 'Cape Verde': {'cases': '328', 'deaths': '2', 'recovers': '67'}, 'Montenegro': {'cases': '324', 'deaths': '9', 'recovers': '311'}, 'Vietnam': {'cases': '318', 'deaths': '0', 'recovers': '260'}, 'Luhansk PR': {'cases': '312', 'deaths': '2', 'recovers': '104'}, 'Haiti': {'cases': '310', 'deaths': '20', 'recovers': '19'}, 'Ethiopia': {'cases': '306', 'deaths': '5', 'recovers': '113'}, 'Jersey': {'cases': '302', 'deaths': '27', 'recovers': '226'}, 'Central African Republic': {'cases': '301', 'deaths': '0', 'recovers': '13'}, 'Togo': {'cases': '298', 'deaths': '11', 'recovers': '99'}, 'Rwanda': {'cases': '289', 'deaths': '0', 'recovers': '178'}, 'Madagascar': {'cases': '283', 'deaths': '0', 'recovers': '114'}, 'Nepal': {'cases': '291', 'deaths': '1', 'recovers': '36'}, 'Guernsey': {'cases': '252', 'deaths': '13', 'recovers': '232'}, 'Donetsk PR': {'cases': '246', 'deaths': '5', 'recovers': '36'}, 'South Sudan': {'cases': '236', 'deaths': '4', 'recovers': '4'}, 'São Tomé & Príncipe': {'cases': '235', 'deaths': '7', 'recovers': '4'}, 'Uganda': {'cases': '227', 'deaths': '0', 'recovers': '63'}, 'Liberia': {'cases': '223', 'deaths': '20', 'recovers': '116'}, 'Eswatini': {'cases': '202', 'deaths': '2', 'recovers': '72'}, 'Faroe Islands': {'cases': '187', 'deaths': '0', 'recovers': '187'}, 'Myanmar': {'cases': '182', 'deaths': '6', 'recovers': '96'}, 'Guam': {'cases': '154', 'deaths': '5', 'recovers': '128'}, 'Costa Atlantica': {'cases': '148', 'deaths': '0', 'recovers': '0'}, 'Gibraltar': {'cases': '147', 'deaths': '0', 'recovers': '145'}, 'Brunei': {'cases': '141', 'deaths': '1', 'recovers': '136'}, 'Mongolia': {'cases': '135', 'deaths': '0', 'recovers': '20'}, 'Mozambique': {'cases': '129', 'deaths': '0', 'recovers': '43'}, 'Greg Mortimer': {'cases': '128', 'deaths': '0', 'recovers': 'No data'}, 'Bermuda': {'cases': '123', 'deaths': '9', 'recovers': '73'}, 'Cambodia': {'cases': '122', 'deaths': '0', 'recovers': '122'}, 'Yemen': {'cases': '122', 'deaths': '18', 'recovers': '1'}, 'Guyana': {'cases': '117', 'deaths': '10', 'recovers': '43'}, 'Trinidad & Tobago': {'cases': '116', 'deaths': '8', 'recovers': '107'}, 'Northern Cyprus': {'cases': '108', 'deaths': '4', 'recovers': '104'}, 'Aruba': {'cases': '101', 'deaths': '3', 'recovers': '93'}, 'Bahamas': {'cases': '96', 'deaths': '11', 'recovers': '42'}, 'Monaco': {'cases': '96', 'deaths': '4', 'recovers': '87'}, 'Cayman Islands': {'cases': '94', 'deaths': '1', 'recovers': '55'}, 'Somaliland': {'cases': '87', 'deaths': '8', 'recovers': '15'}, 'Barbados': {'cases': '86', 'deaths': '7', 'recovers': '67'}, 'Liechtenstein': {'cases': '82', 'deaths': '1', 'recovers': '55'}, 'Sint Maarten': {'cases': '77', 'deaths': '15', 'recovers': '54'}, 'U.S. Virgin Islands': {'cases': '69', 'deaths': '6', 'recovers': '61'}, 'Libya': {'cases': '65', 'deaths': '3', 'recovers': '28'}, 'Malawi': {'cases': '65', 'deaths': '3', 'recovers': '24'}, 'French Polynesia': {'cases': '60', 'deaths': '0', 'recovers': '59'}, 'Syria': {'cases': '51', 'deaths': '3', 'recovers': '36'}, 'Angola': {'cases': '48', 'deaths': '2', 'recovers': '14'}, 'Macau': {'cases': '45', 'deaths': '0', 'recovers': '44'}, 'Zimbabwe': {'cases': '44', 'deaths': '4', 'recovers': '17'}, 'Mauritania': {'cases': '40', 'deaths': '3', 'recovers': '7'}, 'Eritrea': {'cases': '39', 'deaths': '0', 'recovers': '38'}, 'South Ossetia': {'cases': '30', 'deaths': '0', 'recovers': '0'}, 'Nicaragua': {'cases': '25', 'deaths': '8', 'recovers': '7'}, 'Antigua & Barbuda': {'cases': '24', 'deaths': '3', 'recovers': '11'}, 'East Timor': {'cases': '24', 'deaths': '0', 'recovers': '21'}, 'Botswana': {'cases': '24', 'deaths': '1', 'recovers': '17'}, 'The Gambia': {'cases': '23', 'deaths': '1', 'recovers': '12'}, 'Grenada': {'cases': '22', 'deaths': '0', 'recovers': '14'}, 'Bhutan': {'cases': '21', 'deaths': '0', 'recovers': '5'}, 'Northern Mariana Islands ': {'cases': '21', 'deaths': '2', 'recovers': '12'}, 'Artsakh': {'cases': '20', 'deaths': '0', 'recovers': '8'}, 'Laos': {'cases': '19', 'deaths': '0', 'recovers': '14'}, 'Belize': {'cases': '18', 'deaths': '2', 'recovers': '16'}, 'Fiji': {'cases': '18', 'deaths': '0', 'recovers': '15'}, 'New Caledonia': {'cases': '18', 'deaths': '0', 'recovers': '18'}, 'Saint Lucia': {'cases': '18', 'deaths': '0', 'recovers': '18'}, 'Abkhazia': {'cases': '17', 'deaths': '1', 'recovers': '2'}, 'Saint Vincent': {'cases': '17', 'deaths': '0', 'recovers': '14'}, 'Curaçao': {'cases': '16', 'deaths': '1', 'recovers': '14'}, 'Dominica': {'cases': '16', 'deaths': '0', 'recovers': '15'}, 'Namibia': {'cases': '16', 'deaths': '0', 'recovers': '13'}, 'Burundi': {'cases': '15', 'deaths': '1', 'recovers': '7'}, 'Saint Kitts & Nevis': {'cases': '15', 'deaths': '0', 'recovers': '14'}, 'Falkland Islands': {'cases': '13', 'deaths': '0', 'recovers': '13'}, 'MS Zaandam': {'cases': '13', 'deaths': '4', 'recovers': 'No data'}, 'Coral Princess': {'cases': '12', 'deaths': '2', 'recovers': 'No data'}, 'Turks & Caicos Islands': {'cases': '12', 'deaths': '1', 'recovers': '10'}, 'Vatican City': {'cases': '12', 'deaths': '0', 'recovers': '2'}, 'Comoros': {'cases': '11', 'deaths': '1', 'recovers': '3'}, 'Greenland': {'cases': '11', 'deaths': '0', 'recovers': '11'}, 'Montserrat': {'cases': '11', 'deaths': '1', 'recovers': '10'}, 'Seychelles': {'cases': '11', 'deaths': '0', 'recovers': '7'}, 'Suriname': {'cases': '10', 'deaths': '1', 'recovers': '9'}, 'British Virgin Islands': {'cases': '8', 'deaths': '1', 'recovers': '6'}, 'HNLMS Dolfijn': {'cases': '8', 'deaths': '0', 'recovers': 'No data'}, 'Papua New Guinea': {'cases': '8', 'deaths': '0', 'recovers': '8'}, 'Anguilla': {'cases': '3', 'deaths': '0', 'recovers': '3'}, 'Bonaire': {'cases': '2', 'deaths': '0', 'recovers': '2'}, 'Saba': {'cases': '2', 'deaths': '0', 'recovers': '2'}, 'Sint Eustatius': {'cases': '2', 'deaths': '0', 'recovers': '2'}, 'Lesotho': {'cases': '1', 'deaths': '0', 'recovers': '0'}, 'Saint Pierre & Miquelon': {'cases': '1', 'deaths': '0', 'recovers': '1'}}\n"
     ]
    }
   ],
   "source": [
    "# extract headings and actual data and combine data into single dict\n",
    "table_body = table.find(\"tbody\")\n",
    "con_infos = table_body.find_all(\"tr\")\n",
    "\n",
    "con_list = list()\n",
    "for con_info in con_infos:\n",
    "    record = list()\n",
    "    name_temp = con_info.find(\"a\")\n",
    "    name = name_temp.get_text()\n",
    "    record.append(name)\n",
    "    numbers_temp = con_info.find_all(\"td\")\n",
    "    for i in range(len(numbers_temp)-1):\n",
    "        number = numbers_temp[i].get_text()\n",
    "        record.append(number)\n",
    "    con_list.append(record)\n",
    "\n",
    "#print(len(con_list))\n",
    "remove_list = list()\n",
    "for con in con_list:\n",
    "    if len(con) != 4:\n",
    "        remove_list.append(con)\n",
    "\n",
    "#print(remove_list)\n",
    "for r in remove_list:\n",
    "    con_list.remove(r)\n",
    "\n",
    "#print(len(con_list))\n",
    "#print(con_list)\n",
    "\n",
    "dictionary = dict()\n",
    "\n",
    "for con in con_list:\n",
    "    for i in range(1, len(con)):\n",
    "        con[i] = con[i].replace('\\n', '')\n",
    "    con_dict = dict()\n",
    "    con_dict['cases'] = con[1]\n",
    "    con_dict['deaths'] = con[2]\n",
    "    con_dict['recovers'] = con[3]\n",
    "    dictionary[con[0]] = con_dict\n",
    "\n",
    "print(dictionary)\n",
    "    \n",
    "\n",
    "\n",
    "\n"
   ]
  },
  {
   "cell_type": "code",
   "execution_count": 8,
   "metadata": {},
   "outputs": [
    {
     "name": "stdout",
     "output_type": "stream",
     "text": [
      "                             cases  deaths recovers\n",
      "United States            1,497,244  89,420  272,525\n",
      "Russia                     281,752   2,631   67,373\n",
      "United Kingdom             240,161  34,466        0\n",
      "Brazil                     233,511  15,662   89,672\n",
      "Spain                      231,350  27,650  149,576\n",
      "...                            ...     ...      ...\n",
      "Bonaire                          2       0        2\n",
      "Saba                             2       0        2\n",
      "Sint Eustatius                   2       0        2\n",
      "Lesotho                          1       0        0\n",
      "Saint Pierre & Miquelon          1       0        1\n",
      "\n",
      "[228 rows x 3 columns]\n"
     ]
    }
   ],
   "source": [
    "col_names = ['cases', 'deaths', 'recovers']\n",
    "df = pd.DataFrame.from_dict(dictionary, orient='index', columns=col_names)\n",
    "#print(df)\n",
    "df = df.replace('No data', '0')\n",
    "print(df)"
   ]
  },
  {
   "cell_type": "markdown",
   "metadata": {},
   "source": [
    "## Adding column of death rates to the dataframe"
   ]
  },
  {
   "cell_type": "code",
   "execution_count": 9,
   "metadata": {},
   "outputs": [
    {
     "name": "stdout",
     "output_type": "stream",
     "text": [
      "                          cases  deaths  recovers  death_rates\n",
      "Saint Pierre & Miquelon       1       0         1         0.00\n",
      "Guinea-Bissau               969       4        26         0.00\n",
      "Faroe Islands               187       0       187         0.00\n",
      "Saint Vincent                17       0        14         0.00\n",
      "Uganda                      227       0        63         0.00\n",
      "...                         ...     ...       ...          ...\n",
      "Coral Princess               12       2         0         0.17\n",
      "Sint Maarten                 77      15        54         0.19\n",
      "France                   142291   27625     61066         0.19\n",
      "MS Zaandam                   13       4         0         0.31\n",
      "Nicaragua                    25       8         7         0.32\n",
      "\n",
      "[228 rows x 4 columns]\n"
     ]
    }
   ],
   "source": [
    "df['cases'] = df.cases.str.replace(',', '').astype('int')\n",
    "df['deaths'] = df.deaths.str.replace(',', '').astype('int')\n",
    "df['recovers'] = df.recovers.str.replace(',', '').astype('int')\n",
    "\n",
    "df['death_rates'] = round(df['deaths']/df['cases'], 2)\n",
    "\n",
    "df = df.sort_values(by=['death_rates'])\n",
    "print(df)"
   ]
  },
  {
   "cell_type": "code",
   "execution_count": 10,
   "metadata": {},
   "outputs": [
    {
     "name": "stdout",
     "output_type": "stream",
     "text": [
      "                 cases  deaths  recovers  death_rates\n",
      "Coral Princess      12       2         0         0.17\n",
      "Sint Maarten        77      15        54         0.19\n",
      "France          142291   27625     61066         0.19\n",
      "MS Zaandam          13       4         0         0.31\n",
      "Nicaragua           25       8         7         0.32\n",
      "                         cases  deaths  recovers  death_rates\n",
      "Saint Pierre & Miquelon      1       0         1          0.0\n",
      "Guinea-Bissau              969       4        26          0.0\n",
      "Faroe Islands              187       0       187          0.0\n",
      "Saint Vincent               17       0        14          0.0\n",
      "Uganda                     227       0        63          0.0\n"
     ]
    }
   ],
   "source": [
    "# highest 5\n",
    "print(df.tail(n=5))\n",
    "# lowest 5\n",
    "print(df.head(n=5))"
   ]
  },
  {
   "cell_type": "code",
   "execution_count": 11,
   "metadata": {},
   "outputs": [
    {
     "name": "stdout",
     "output_type": "stream",
     "text": [
      "                 cases  deaths  recovers  death_rates\n",
      "Coral Princess      12       2         0         0.17\n",
      "Sint Maarten        77      15        54         0.19\n",
      "France          142291   27625     61066         0.19\n",
      "MS Zaandam          13       4         0         0.31\n",
      "Nicaragua           25       8         7         0.32\n"
     ]
    }
   ],
   "source": [
    "highest_df = df.tail(n=5)\n",
    "print(highest_df)"
   ]
  },
  {
   "cell_type": "markdown",
   "metadata": {},
   "source": [
    "## Grouped bar chart"
   ]
  },
  {
   "cell_type": "code",
   "execution_count": 12,
   "metadata": {},
   "outputs": [
    {
     "data": {
      "image/png": "[encoded data removed]",
      "text/plain": [
       "<Figure size 432x288 with 1 Axes>"
      ]
     },
     "metadata": {
      "needs_background": "light"
     },
     "output_type": "display_data"
    }
   ],
   "source": [
    "import numpy as np\n",
    "\n",
    "labels = highest_df.index\n",
    "cases = highest_df['cases']\n",
    "deaths = highest_df['deaths']\n",
    "recovers = highest_df['recovers']\n",
    "\n",
    "x = np.arange(len(labels))\n",
    "width = 0.25\n",
    "\n",
    "fig, ax = plt.subplots()\n",
    "rects1 = ax.bar(x -width, cases, width, label='cases')\n",
    "rects2 = ax.bar(x, deaths, width, label='deaths')\n",
    "rects3 = ax.bar(x + width, recovers, width, label='recovers')\n",
    "\n",
    "ax.set_ylabel('number of patients')\n",
    "ax.set_title('number of patients by contry')\n",
    "\n",
    "ax.set_xticks(x)\n",
    "ax.set_xticklabels(labels)\n",
    "\n",
    "ax.legend()\n",
    "\n",
    "plt.yscale('log')\n",
    "plt.show()"
   ]
  }
 ],
 "metadata": {
  "kernelspec": {
   "display_name": "Python 3",
   "language": "python",
   "name": "python3"
  },
  "language_info": {
   "codemirror_mode": {
    "name": "ipython",
    "version": 3
   },
   "file_extension": ".py",
   "mimetype": "text/x-python",
   "name": "python",
   "nbconvert_exporter": "python",
   "pygments_lexer": "ipython3",
   "version": "3.7.7"
  }
 },
 "nbformat": 4,
 "nbformat_minor": 4
}
